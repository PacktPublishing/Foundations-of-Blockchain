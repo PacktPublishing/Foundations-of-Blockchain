{
 "cells": [
  {
   "cell_type": "markdown",
   "metadata": {},
   "source": [
    "# AES example to encrypt and decrypt a message "
   ]
  },
  {
   "cell_type": "markdown",
   "metadata": {},
   "source": [
    "## Encryption part"
   ]
  },
  {
   "cell_type": "code",
   "execution_count": 36,
   "metadata": {},
   "outputs": [
    {
     "name": "stdout",
     "output_type": "stream",
     "text": [
      "Data is encrypted and stored in a file\n"
     ]
    }
   ],
   "source": [
    "#!/usr/bin/python\n",
    "\n",
    "from Crypto.Cipher import AES\n",
    "from Crypto.Random import get_random_bytes\n",
    "\n",
    "with open(\"aes.key\", \"wb\") as file_out:\n",
    "    key = get_random_bytes(16)\n",
    "    file_out.write(key)\n",
    "data = \"plaintext for AES\"\n",
    "cipher = AES.new(key, AES.MODE_EAX)\n",
    "cipher_text, tag = cipher.encrypt_and_digest(data.encode())\n",
    "with open(\"encrypted.bin\", \"wb\") as file_out:\n",
    "    [file_out.write(x) for x in (cipher.nonce, tag, cipher_text)]\n",
    "print(\"Data is encrypted and stored in a file\")\n",
    "\n",
    "\n"
   ]
  },
  {
   "cell_type": "markdown",
   "metadata": {},
   "source": [
    "\n"
   ]
  },
  {
   "cell_type": "markdown",
   "metadata": {},
   "source": [
    "AES cypher object is created by passing the key. Cypher mode EAX is used in the above code. This object is used to encrypt the data. Nonce, tag and ciphertext are stored and transmitted to the decryption end."
   ]
  },
  {
   "cell_type": "markdown",
   "metadata": {},
   "source": [
    "## Decryption part"
   ]
  },
  {
   "cell_type": "code",
   "execution_count": 37,
   "metadata": {},
   "outputs": [
    {
     "name": "stdout",
     "output_type": "stream",
     "text": [
      "Decrypted data is : \"plaintext for AES\"\n"
     ]
    }
   ],
   "source": [
    "\n",
    "\n",
    "with open(\"aes.key\", \"rb\") as file_in:\n",
    "    key = file_in.read(16)\n",
    "with open(\"encrypted.bin\", \"rb\") as file_in:\n",
    "    nonce, tag, cipher_text = [file_in.read(x) for x in (16, 16, -1)]\n",
    "\n",
    "# let's assume that the key is somehow available again\n",
    "cipher = AES.new(key, AES.MODE_EAX, nonce)\n",
    "data = cipher.decrypt_and_verify(cipher_text, tag)\n",
    "print(\"Decrypted data is : \\\"{}\\\"\".format(data.decode()))"
   ]
  },
  {
   "cell_type": "markdown",
   "metadata": {},
   "source": [
    "Decryption part of the AES uses same 16-byte symmetric key generated at the encryption end. Ideally this key has to be tranferred using a secure channel to the other end. Received encrypted binary file read to get nonce, tag and the ciphertext itelf. AES cipher object is created using the same key and nonce value.  Finally decryption is performed using decrypt_and_verify method by providing ceipher text and tag value. Tag value is provided to perform verfication which checks for any modification in the cipher text.  "
   ]
  },
  {
   "cell_type": "markdown",
   "metadata": {},
   "source": [
    "# RSA example to encrypt and decrypt a message "
   ]
  },
  {
   "cell_type": "markdown",
   "metadata": {},
   "source": [
    "## Encryption part"
   ]
  },
  {
   "cell_type": "code",
   "execution_count": 31,
   "metadata": {},
   "outputs": [
    {
     "name": "stdout",
     "output_type": "stream",
     "text": [
      "Data is encrypted\n"
     ]
    }
   ],
   "source": [
    "#!/usr/bin/python\n",
    "\n",
    "from Crypto.PublicKey import RSA\n",
    "from Crypto.Cipher import PKCS1_OAEP\n",
    "\n",
    "\n",
    "message = \"plaintext for RSA\"\n",
    "\n",
    "key = RSA.generate(2048)\n",
    "public = key.publickey()\n",
    "\n",
    "cipher = PKCS1_OAEP.new(public)\n",
    "cipher_text = cipher.encrypt(message.encode())\n",
    "print(\"Data is encrypted\")\n",
    "\n",
    "\n"
   ]
  },
  {
   "cell_type": "markdown",
   "metadata": {},
   "source": [
    "RSA key of 2048 bits is created using the generate method of RSA package. Public key is exported from this generated key and made public. The entire key object should be kept secret. A cipher object is created using the public key and encryption is performed on message using this object."
   ]
  },
  {
   "cell_type": "markdown",
   "metadata": {},
   "source": [
    "## Decryption part"
   ]
  },
  {
   "cell_type": "code",
   "execution_count": 32,
   "metadata": {},
   "outputs": [
    {
     "name": "stdout",
     "output_type": "stream",
     "text": [
      "Decrypted data is : \"plaintext for RSA\"\n"
     ]
    }
   ],
   "source": [
    "\n",
    "cipher = PKCS1_OAEP.new(key)\n",
    "message = cipher.decrypt(cipher_text)\n",
    "print(\"Decrypted data is : \\\"{}\\\"\".format(message.decode()))"
   ]
  },
  {
   "cell_type": "markdown",
   "metadata": {},
   "source": [
    "Decryption operation is performed similar to the encryption side, but private part of the key pair is used instead of exposed part. Available cipher text is given as input to the decrypt method which decrypts and gives back the message. "
   ]
  },
  {
   "cell_type": "markdown",
   "metadata": {},
   "source": [
    "# ECDSA example to create and verify a digital signatur"
   ]
  },
  {
   "cell_type": "markdown",
   "metadata": {},
   "source": [
    "## ECC key generation"
   ]
  },
  {
   "cell_type": "code",
   "execution_count": 33,
   "metadata": {},
   "outputs": [],
   "source": [
    "from Crypto.Hash import SHA256\n",
    "from Crypto.PublicKey import ECC\n",
    "from Crypto.Signature import DSS\n",
    "\n",
    "key = ECC.generate(curve='P-256')\n",
    "\n",
    "with open('ecc.pub', 'wt') as f:\n",
    "    f.write(key.public_key().export_key(format='PEM'))\n",
    "with open('ecc.pem', 'wt') as f:\n",
    "    f.write(key.export_key(format='PEM'))\n",
    "\n",
    "\n"
   ]
  },
  {
   "cell_type": "markdown",
   "metadata": {},
   "source": [
    "Key is generated on the Secp256k1 elliptical curve using ECC.generate method, and both public and private keys are exported. "
   ]
  },
  {
   "cell_type": "markdown",
   "metadata": {},
   "source": [
    "## creation digital signature"
   ]
  },
  {
   "cell_type": "code",
   "execution_count": 34,
   "metadata": {},
   "outputs": [],
   "source": [
    "\n",
    "message = b'ECDSA message for signature'\n",
    "key = ECC.import_key(open('ecc.pem').read())\n",
    "h = SHA256.new(message)\n",
    "signer = DSS.new(key, 'fips-186-3')\n",
    "signature = signer.sign(h)\n",
    "\n"
   ]
  },
  {
   "cell_type": "markdown",
   "metadata": {},
   "source": [
    "Messages which needs to be signed is hashed using SHA256 algorithm and then a signer object is created using DSS package by providing private key. Hashed message is then signed by the owner."
   ]
  },
  {
   "cell_type": "markdown",
   "metadata": {},
   "source": [
    "## verifying the  digital signature"
   ]
  },
  {
   "cell_type": "code",
   "execution_count": 35,
   "metadata": {},
   "outputs": [
    {
     "name": "stdout",
     "output_type": "stream",
     "text": [
      "The message is authentic.\n"
     ]
    }
   ],
   "source": [
    "\n",
    "h = SHA256.new(message)\n",
    "key = ECC.import_key(open('ecc.pub').read())\n",
    "verifier = DSS.new(key, 'fips-186-3')\n",
    "try:\n",
    "    verifier.verify(h, signature)\n",
    "    print(\"The message is authentic.\")\n",
    "except ValueError:\n",
    "    print(\"The message is not authentic.\")"
   ]
  },
  {
   "cell_type": "markdown",
   "metadata": {},
   "source": [
    "Signature verification in the above code is similar to that of signing. Received message is hashed initially since it was performed at the sender side as well. Distributed public key is imported and used to create a new DSS object for verification. Hashed message and received signature is used for the verification. Verify function would throw a ValueError if the message or signature was tampered. "
   ]
  },
  {
   "cell_type": "code",
   "execution_count": null,
   "metadata": {},
   "outputs": [],
   "source": []
  },
  {
   "cell_type": "code",
   "execution_count": null,
   "metadata": {},
   "outputs": [],
   "source": []
  },
  {
   "cell_type": "code",
   "execution_count": null,
   "metadata": {},
   "outputs": [],
   "source": []
  },
  {
   "cell_type": "code",
   "execution_count": null,
   "metadata": {},
   "outputs": [],
   "source": []
  },
  {
   "cell_type": "code",
   "execution_count": null,
   "metadata": {},
   "outputs": [],
   "source": []
  },
  {
   "cell_type": "code",
   "execution_count": null,
   "metadata": {},
   "outputs": [],
   "source": []
  }
 ],
 "metadata": {
  "kernelspec": {
   "display_name": "Python 3",
   "language": "python",
   "name": "python3"
  },
  "language_info": {
   "codemirror_mode": {
    "name": "ipython",
    "version": 2
   },
   "file_extension": ".py",
   "mimetype": "text/x-python",
   "name": "python",
   "nbconvert_exporter": "python",
   "pygments_lexer": "ipython2",
   "version": "2.7.12"
  }
 },
 "nbformat": 4,
 "nbformat_minor": 2
}
